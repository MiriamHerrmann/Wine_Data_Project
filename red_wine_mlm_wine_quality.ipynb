{
 "cells": [
  {
   "cell_type": "code",
   "execution_count": 3,
   "metadata": {},
   "outputs": [
    {
     "ename": "ModuleNotFoundError",
     "evalue": "No module named 'adspy_shared_utilities'",
     "output_type": "error",
     "traceback": [
      "\u001b[1;31m---------------------------------------------------------------------------\u001b[0m",
      "\u001b[1;31mModuleNotFoundError\u001b[0m                       Traceback (most recent call last)",
      "Cell \u001b[1;32mIn[3], line 12\u001b[0m\n\u001b[0;32m     10\u001b[0m \u001b[39mfrom\u001b[39;00m \u001b[39msklearn\u001b[39;00m\u001b[39m.\u001b[39;00m\u001b[39mmetrics\u001b[39;00m \u001b[39mimport\u001b[39;00m classification_report\n\u001b[0;32m     11\u001b[0m \u001b[39mfrom\u001b[39;00m \u001b[39msklearn\u001b[39;00m\u001b[39m.\u001b[39;00m\u001b[39mmetrics\u001b[39;00m \u001b[39mimport\u001b[39;00m confusion_matrix\n\u001b[1;32m---> 12\u001b[0m \u001b[39mfrom\u001b[39;00m \u001b[39madspy_shared_utilities\u001b[39;00m\u001b[39m.\u001b[39;00m\u001b[39mpy\u001b[39;00m \u001b[39mimport\u001b[39;00m plot_two_class_knn\n",
      "\u001b[1;31mModuleNotFoundError\u001b[0m: No module named 'adspy_shared_utilities'"
     ]
    }
   ],
   "source": [
    "#import libraries \n",
    "import numpy as np  \n",
    "import pandas as pd \n",
    "from sklearn.model_selection import train_test_split\n",
    "from sklearn import datasets, linear_model\n",
    "from sklearn.preprocessing import StandardScaler\n",
    "#from imblearn.over_sampling import RandomOverSampler \n",
    "from sklearn.preprocessing import LabelEncoder\n",
    "from sklearn.neighbors import KNeighborsClassifier \n",
    "from sklearn.metrics import classification_report\n",
    "from sklearn.metrics import confusion_matrix\n",
    "from adspy_shared_utilities.py import plot_two_class_knn"
   ]
  },
  {
   "cell_type": "code",
   "execution_count": 1197,
   "metadata": {},
   "outputs": [],
   "source": [
    "#import data \n",
    "red_wine = pd.read_csv(\"wine+quality\\winequality-red.csv\", sep= ';', delimiter=None) \n",
    "\n",
    "#make a copy\n",
    "rw = red_wine\n"
   ]
  },
  {
   "cell_type": "code",
   "execution_count": 1198,
   "metadata": {},
   "outputs": [],
   "source": [
    "#remove all duplicates \n",
    "rw.drop_duplicates(inplace=True)\n"
   ]
  },
  {
   "cell_type": "code",
   "execution_count": 1199,
   "metadata": {},
   "outputs": [],
   "source": [
    "#unify column names \n",
    "rw.rename(columns = {'fixed acidity':'fixed_acidity','volatile acidity':'volatile_acidity','citric acid':'citric_acid','residual sugar':'residual_sugar','free sulfur dioxide':'free_sulfur_dioxide', 'total sulfur dioxide':'total_sulfur_dioxide'}, inplace=True)"
   ]
  },
  {
   "cell_type": "code",
   "execution_count": 1200,
   "metadata": {},
   "outputs": [],
   "source": [
    "#add a column \n",
    "#rw.insert(12, \"colour\", 'red')"
   ]
  },
  {
   "cell_type": "code",
   "execution_count": 1201,
   "metadata": {},
   "outputs": [],
   "source": [
    "#add quality label column - low 1-4, medium 5-6, high 7-10 \n",
    "rw['quality_label'] = rw['quality'].apply(lambda value: 'low'\n",
    "if value <= 4 else 'medium'\n",
    "if value <= 6 else 'high')\n",
    "rw['quality_label'] = pd.Categorical(rw['quality_label'], \n",
    "categories=['low', 'medium', 'high']) \n"
   ]
  },
  {
   "cell_type": "code",
   "execution_count": 1202,
   "metadata": {},
   "outputs": [
    {
     "data": {
      "text/plain": [
       "['medium', 'high', 'low']\n",
       "Categories (3, object): ['low', 'medium', 'high']"
      ]
     },
     "execution_count": 1202,
     "metadata": {},
     "output_type": "execute_result"
    }
   ],
   "source": [
    "#check unique values of this column \n",
    "rw['quality_label'].unique()"
   ]
  },
  {
   "cell_type": "code",
   "execution_count": 1203,
   "metadata": {},
   "outputs": [
    {
     "data": {
      "text/plain": [
       "medium    1112\n",
       "high       184\n",
       "low         63\n",
       "Name: quality_label, dtype: int64"
      ]
     },
     "execution_count": 1203,
     "metadata": {},
     "output_type": "execute_result"
    }
   ],
   "source": [
    "#see data distribution \n",
    "rw['quality_label'].value_counts()"
   ]
  },
  {
   "attachments": {},
   "cell_type": "markdown",
   "metadata": {},
   "source": [
    "Label Encoder "
   ]
  },
  {
   "cell_type": "code",
   "execution_count": 1204,
   "metadata": {},
   "outputs": [],
   "source": [
    "#make a copy \n",
    "rw1 = rw.copy()"
   ]
  },
  {
   "cell_type": "code",
   "execution_count": 1205,
   "metadata": {},
   "outputs": [],
   "source": [
    "#first save label encoder \n",
    "lbl_enc = LabelEncoder()\n",
    "\n",
    "#use function fit transform \n",
    "rw1['quality_label'] = lbl_enc.fit_transform(rw1['quality_label'])\n",
    "\n"
   ]
  },
  {
   "cell_type": "code",
   "execution_count": 1206,
   "metadata": {},
   "outputs": [
    {
     "data": {
      "text/plain": [
       "2    1112\n",
       "0     184\n",
       "1      63\n",
       "Name: quality_label, dtype: int64"
      ]
     },
     "execution_count": 1206,
     "metadata": {},
     "output_type": "execute_result"
    }
   ],
   "source": [
    "rw1['quality_label'].value_counts()\n",
    "# low is 1 \n",
    "# medium is 2 \n",
    "# high is 0\n",
    "\n",
    "\n",
    "#          low quality = 1-4 \n",
    "#       medium quality = 5-6\n",
    "#         high quality = 7-10 \n",
    "\n"
   ]
  },
  {
   "attachments": {},
   "cell_type": "markdown",
   "metadata": {},
   "source": [
    "Train, validation, test datasets "
   ]
  },
  {
   "cell_type": "code",
   "execution_count": 1207,
   "metadata": {},
   "outputs": [],
   "source": [
    "#split data\n",
    "train, valid, test = np.split(rw1.sample(frac=1), [int(0.6*len(rw1)), int(0.8*len(rw1))])"
   ]
  },
  {
   "cell_type": "code",
   "execution_count": 1208,
   "metadata": {},
   "outputs": [],
   "source": [
    "#scale data \n",
    "def scale_dataset(rw1, oversample=False):\n",
    "    X = rw1[rw1.columns[:-1]].values #calling all columns until the last one \n",
    "    y = rw1[rw1.columns[-1]].values #calling only the last column \n",
    "\n",
    "    scaler = StandardScaler() # check rules here for group splitting \n",
    "    X = scaler.fit_transform(X) \n",
    "\n",
    "    data = np.hstack((X, np.reshape(y, (-1, 1))))\n",
    "    # y is only 2D, so call numpy reshape to make it  3Dimensional Item \n",
    "    # because y is only 1 column\n",
    "\n",
    "    return data, X, y"
   ]
  },
  {
   "cell_type": "code",
   "execution_count": 1209,
   "metadata": {},
   "outputs": [],
   "source": [
    "#train data and run model \n",
    "train, X_train, y_train = scale_dataset(train)\n",
    "valid, X_valid, y_valid = scale_dataset(valid)\n",
    "test, X_test, y_test = scale_dataset(test)\n",
    "\n",
    "knn_model = KNeighborsClassifier(n_neighbors=7) # dont try random state, define all parameters \n",
    "knn_model.fit(X_train, y_train)\n",
    "\n",
    "y_pred = knn_model.predict(X_test)\n"
   ]
  },
  {
   "cell_type": "code",
   "execution_count": 1210,
   "metadata": {},
   "outputs": [
    {
     "name": "stdout",
     "output_type": "stream",
     "text": [
      "              precision    recall  f1-score   support\n",
      "\n",
      "           0       0.93      0.74      0.83        35\n",
      "           1       1.00      0.44      0.62         9\n",
      "           2       0.94      0.99      0.97       228\n",
      "\n",
      "    accuracy                           0.94       272\n",
      "   macro avg       0.96      0.73      0.80       272\n",
      "weighted avg       0.94      0.94      0.94       272\n",
      "\n"
     ]
    }
   ],
   "source": [
    "#check classification report \n",
    "print(classification_report(y_test, y_pred)) \n",
    "\n",
    "# low is 1 \n",
    "# medium is 2 \n",
    "# high is 0"
   ]
  },
  {
   "cell_type": "code",
   "execution_count": 1211,
   "metadata": {},
   "outputs": [
    {
     "name": "stdout",
     "output_type": "stream",
     "text": [
      "[[ 26   0   9]\n",
      " [  0   4   5]\n",
      " [  2   0 226]]\n"
     ]
    }
   ],
   "source": [
    "# do a confusion matrix  \n",
    "print(confusion_matrix(y_test, y_pred))\n",
    "#google explaination"
   ]
  },
  {
   "attachments": {},
   "cell_type": "markdown",
   "metadata": {},
   "source": [
    "Add confusion matrix labels "
   ]
  },
  {
   "cell_type": "code",
   "execution_count": null,
   "metadata": {},
   "outputs": [],
   "source": []
  },
  {
   "cell_type": "code",
   "execution_count": 1212,
   "metadata": {},
   "outputs": [],
   "source": [
    "#for label in rw.columns[:-1]:\n",
    " #   plt.hist(rw[rw[\"quality_label\"]==0][label], color = 'blue', label = 'High Quality', alpha = 0.7, density=True)\n",
    "  #  plt.hist(rw[rw[\"quality_label\"]==1][label], color = 'red', label = 'Low Quality', alpha = 0.7, density=True)\n",
    "   # plt.title(label)\n",
    "    #plt.xlabel(label)\n",
    "    #plt.legend()\n",
    "    #plt.show()"
   ]
  }
 ],
 "metadata": {
  "kernelspec": {
   "display_name": "base",
   "language": "python",
   "name": "python3"
  },
  "language_info": {
   "codemirror_mode": {
    "name": "ipython",
    "version": 3
   },
   "file_extension": ".py",
   "mimetype": "text/x-python",
   "name": "python",
   "nbconvert_exporter": "python",
   "pygments_lexer": "ipython3",
   "version": "3.10.9"
  },
  "orig_nbformat": 4
 },
 "nbformat": 4,
 "nbformat_minor": 2
}
