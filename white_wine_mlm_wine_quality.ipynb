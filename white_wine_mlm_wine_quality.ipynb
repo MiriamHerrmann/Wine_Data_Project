{
 "cells": [
  {
   "cell_type": "code",
   "execution_count": 83,
   "metadata": {},
   "outputs": [],
   "source": [
    "#import libraries \n",
    "import numpy as np  \n",
    "import pandas as pd \n",
    "from sklearn.model_selection import train_test_split\n",
    "from sklearn import datasets, linear_model\n",
    "from sklearn.preprocessing import StandardScaler\n",
    "#from imblearn.over_sampling import RandomOverSampler \n",
    "from sklearn.preprocessing import LabelEncoder\n",
    "from sklearn.neighbors import KNeighborsClassifier \n",
    "from sklearn.metrics import classification_report\n",
    "from sklearn.metrics import confusion_matrix\n",
    "from sklearn.preprocessing import RobustScaler "
   ]
  },
  {
   "cell_type": "code",
   "execution_count": 84,
   "metadata": {},
   "outputs": [],
   "source": [
    "#import data \n",
    "white_wine = pd.read_csv(\"wine+quality\\winequality-white.csv\", sep= ';', delimiter=None) \n",
    "\n",
    "#make a copy\n",
    "ww = white_wine"
   ]
  },
  {
   "cell_type": "code",
   "execution_count": 85,
   "metadata": {},
   "outputs": [],
   "source": [
    "#remove all duplicates \n",
    "ww.drop_duplicates(inplace=True)"
   ]
  },
  {
   "cell_type": "code",
   "execution_count": 86,
   "metadata": {},
   "outputs": [],
   "source": [
    "#unify column names \n",
    "ww.rename(columns = {'fixed acidity':'fixed_acidity','volatile acidity':'volatile_acidity','citric acid':'citric_acid','residual sugar':'residual_sugar','free sulfur dioxide':'free_sulfur_dioxide', 'total sulfur dioxide':'total_sulfur_dioxide'}, inplace=True)"
   ]
  },
  {
   "cell_type": "code",
   "execution_count": 87,
   "metadata": {},
   "outputs": [],
   "source": [
    "#add a column \n",
    "#ww.insert(12, \"colour\", 'white')"
   ]
  },
  {
   "attachments": {},
   "cell_type": "markdown",
   "metadata": {},
   "source": [
    "Next add the quality label column "
   ]
  },
  {
   "cell_type": "code",
   "execution_count": 88,
   "metadata": {},
   "outputs": [],
   "source": [
    "#add quality label column - low 1-4, medium 5-6, high 7-10 \n",
    "ww['quality_label'] = ww['quality'].apply(lambda value: 'low'\n",
    "if value <= 4 else 'medium'\n",
    "if value <= 6 else 'high')\n",
    "ww['quality_label'] = pd.Categorical(ww['quality_label'], \n",
    "categories=['low', 'medium', 'high']) "
   ]
  },
  {
   "attachments": {},
   "cell_type": "markdown",
   "metadata": {},
   "source": [
    "Label Encoder "
   ]
  },
  {
   "cell_type": "code",
   "execution_count": 89,
   "metadata": {},
   "outputs": [],
   "source": [
    "ww1 = ww.copy()"
   ]
  },
  {
   "cell_type": "code",
   "execution_count": 90,
   "metadata": {},
   "outputs": [
    {
     "data": {
      "text/plain": [
       "['medium', 'high', 'low']\n",
       "Categories (3, object): ['low', 'medium', 'high']"
      ]
     },
     "execution_count": 90,
     "metadata": {},
     "output_type": "execute_result"
    }
   ],
   "source": [
    "#check unique values of this column \n",
    "ww1['quality_label'].unique()"
   ]
  },
  {
   "cell_type": "code",
   "execution_count": 91,
   "metadata": {},
   "outputs": [],
   "source": [
    "#first save label encoder \n",
    "lbl_enc = LabelEncoder()\n",
    "\n",
    "#use function fit transform \n",
    "ww1['quality_label'] = lbl_enc.fit_transform(ww1['quality_label'])\n"
   ]
  },
  {
   "cell_type": "code",
   "execution_count": 92,
   "metadata": {},
   "outputs": [
    {
     "data": {
      "text/plain": [
       "medium    2963\n",
       "high       825\n",
       "low        173\n",
       "Name: quality_label, dtype: int64"
      ]
     },
     "execution_count": 92,
     "metadata": {},
     "output_type": "execute_result"
    }
   ],
   "source": [
    "ww['quality_label'].value_counts()"
   ]
  },
  {
   "cell_type": "code",
   "execution_count": 93,
   "metadata": {},
   "outputs": [
    {
     "data": {
      "text/plain": [
       "2    2963\n",
       "0     825\n",
       "1     173\n",
       "Name: quality_label, dtype: int64"
      ]
     },
     "execution_count": 93,
     "metadata": {},
     "output_type": "execute_result"
    }
   ],
   "source": [
    "ww1['quality_label'].value_counts()\n",
    "# low = 1 \n",
    "# medium = 2 \n",
    "# high = 0 "
   ]
  },
  {
   "cell_type": "code",
   "execution_count": 94,
   "metadata": {},
   "outputs": [],
   "source": [
    "#for label in ww.columns[:-1]:\n",
    "    #plt.hist(ww[ww[\"quality_label\"]==0][label], color = 'blue', label = 'High Quality', alpha = 0.7, density=True)\n",
    "    #plt.hist(ww[ww[\"quality_label\"]==1][label], color = 'red', label = 'Low Quality', alpha = 0.7, density=True)\n",
    "    #plt.title(label)\n",
    "    #plt.xlabel(label)\n",
    "    #plt.legend()\n",
    "    #plt.show()"
   ]
  },
  {
   "cell_type": "code",
   "execution_count": 95,
   "metadata": {},
   "outputs": [],
   "source": [
    "#manually calculate interquartile range to compare to robust scaler \n",
    "#too far into the math \n",
    "#q25, q50, q75 = np.percentile(ww, [25, 50, 75], axis=1)\n",
    "#x_scaled = (ww-q50)/(ww-q75-q25)\n",
    "#print(x_scaled)"
   ]
  },
  {
   "cell_type": "code",
   "execution_count": 96,
   "metadata": {},
   "outputs": [],
   "source": [
    "#split data\n",
    "train, valid, test = np.split(ww1.sample(frac=1), [int(0.6*len(ww1)), int(0.8*len(ww1))])"
   ]
  },
  {
   "cell_type": "code",
   "execution_count": 97,
   "metadata": {},
   "outputs": [],
   "source": [
    "#robust scaler example \n",
    "#scaler = RobustScaler()\n",
    "#ww_scaled = scaler.fit_transform(ww) \n",
    "#print(ww_scaled)"
   ]
  },
  {
   "cell_type": "code",
   "execution_count": 98,
   "metadata": {},
   "outputs": [],
   "source": [
    "#robust scaler in code\n",
    "\n",
    "#def scale_dataset(ww1, oversample=False):\n",
    " #   X = ww1[ww1.columns[:-1]].values #calling all columns until the last one \n",
    "  #  y = ww1[ww1.columns[-1]].values #calling only the last column \n",
    "   # \n",
    "    #scaler = RobustScaler()\n",
    "    #X = scaler.fit_transform(ww1) \n",
    "\n",
    "#    data = np.hstack((X, np.reshape(y, (-1, 1))))\n",
    " #   # y is only 2D, so call numpy reshape to make it  3Dimensional Item \n",
    "  #  # because y is only 1 column\n",
    "#\n",
    " #   return data, X, y\n"
   ]
  },
  {
   "cell_type": "code",
   "execution_count": 99,
   "metadata": {},
   "outputs": [],
   "source": [
    "#youtube explaination of numpy arrawy dimensions and hstack in machine learning "
   ]
  },
  {
   "cell_type": "code",
   "execution_count": 100,
   "metadata": {},
   "outputs": [],
   "source": [
    "# standard scaler\n",
    "#scale data \n",
    "def scale_dataset(ww1, oversample=False):\n",
    "    X = ww1[ww1.columns[:-1]].values #calling all columns until the last one \n",
    "    y = ww1[ww1.columns[-1]].values #calling only the last column \n",
    "\n",
    "    scaler = StandardScaler() # check rules here for group splitting \n",
    "    X = scaler.fit_transform(X) \n",
    "\n",
    "    data = np.hstack((X, np.reshape(y, (-1, 1))))\n",
    "    # y is only 2D, so call numpy reshape to make it  3Dimensional Item \n",
    "    # because y is only 1 column\n",
    "\n",
    "    return data, X, y"
   ]
  },
  {
   "cell_type": "code",
   "execution_count": 101,
   "metadata": {},
   "outputs": [],
   "source": [
    "#train data and run model \n",
    "train, X_train, y_train = scale_dataset(train)\n",
    "valid, X_valid, y_valid = scale_dataset(valid)\n",
    "test, X_test, y_test = scale_dataset(test)\n",
    "\n",
    "knn_model = KNeighborsClassifier(n_neighbors=7)\n",
    "knn_model.fit(X_train, y_train)\n",
    "\n",
    "y_pred = knn_model.predict(X_test)\n"
   ]
  },
  {
   "cell_type": "code",
   "execution_count": 102,
   "metadata": {},
   "outputs": [
    {
     "name": "stdout",
     "output_type": "stream",
     "text": [
      "              precision    recall  f1-score   support\n",
      "\n",
      "           0       0.98      0.91      0.95       151\n",
      "           1       1.00      0.26      0.41        31\n",
      "           2       0.94      1.00      0.97       611\n",
      "\n",
      "    accuracy                           0.95       793\n",
      "   macro avg       0.97      0.72      0.77       793\n",
      "weighted avg       0.95      0.95      0.94       793\n",
      "\n"
     ]
    }
   ],
   "source": [
    "#check classification report \n",
    "print(classification_report(y_test, y_pred)) \n",
    "\n",
    "# low is 1 \n",
    "# medium is 2 \n",
    "# high is 0"
   ]
  },
  {
   "cell_type": "code",
   "execution_count": 103,
   "metadata": {},
   "outputs": [
    {
     "name": "stdout",
     "output_type": "stream",
     "text": [
      "[[138   0  13]\n",
      " [  0   8  23]\n",
      " [  3   0 608]]\n"
     ]
    }
   ],
   "source": [
    "print(confusion_matrix(y_test, y_pred))"
   ]
  },
  {
   "cell_type": "code",
   "execution_count": null,
   "metadata": {},
   "outputs": [],
   "source": []
  }
 ],
 "metadata": {
  "kernelspec": {
   "display_name": "base",
   "language": "python",
   "name": "python3"
  },
  "language_info": {
   "codemirror_mode": {
    "name": "ipython",
    "version": 3
   },
   "file_extension": ".py",
   "mimetype": "text/x-python",
   "name": "python",
   "nbconvert_exporter": "python",
   "pygments_lexer": "ipython3",
   "version": "3.10.9"
  },
  "orig_nbformat": 4
 },
 "nbformat": 4,
 "nbformat_minor": 2
}
