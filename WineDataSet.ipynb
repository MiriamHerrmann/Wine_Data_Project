{
 "cells": [
  {
   "cell_type": "code",
   "execution_count": null,
   "metadata": {},
   "outputs": [],
   "source": [
    "import numpy as np #statistical \n",
    "import pandas as pd #data frame numbers . head/tail \n",
    "from scipy import stats  \n",
    "import matplotlib.pyplot as plt \n",
    "import seaborn as sns #visualisation graphs and plots"
   ]
  },
  {
   "cell_type": "code",
   "execution_count": null,
   "metadata": {},
   "outputs": [],
   "source": [
    "red_wine = pd.read_csv(\"wine+quality\\winequality-red.csv\", sep= ';', delimiter=None) \n",
    "#wine_red = pd.read_csv(\"C:\\Users\\lmyhe\\Desktop\\Code_Academy\\Module_1\\Project_2\\Sprint 1\\wine+quality\\winequality-red.csv\") \n",
    "#doesnt work. some issue in the first part of the pathway. possibly because of the lmy part. "
   ]
  },
  {
   "cell_type": "code",
   "execution_count": null,
   "metadata": {},
   "outputs": [],
   "source": [
    "red_wine\n",
    "#fix the view like in one of our first exercises "
   ]
  },
  {
   "cell_type": "code",
   "execution_count": null,
   "metadata": {},
   "outputs": [],
   "source": [
    "red_wine.head(10)"
   ]
  },
  {
   "cell_type": "code",
   "execution_count": null,
   "metadata": {},
   "outputs": [],
   "source": [
    "white_wine = pd.read_csv(\"wine+quality\\winequality-white.csv\", sep= ';', delimiter=None) \n",
    "white_wine.describe()\n",
    "#figure out what this really means "
   ]
  },
  {
   "cell_type": "code",
   "execution_count": null,
   "metadata": {},
   "outputs": [],
   "source": [
    "white_wine.tail(10)"
   ]
  },
  {
   "cell_type": "code",
   "execution_count": null,
   "metadata": {},
   "outputs": [],
   "source": [
    "red_wine.info()"
   ]
  },
  {
   "cell_type": "code",
   "execution_count": null,
   "metadata": {},
   "outputs": [],
   "source": [
    "print(red_wine.shape)"
   ]
  },
  {
   "cell_type": "code",
   "execution_count": null,
   "metadata": {},
   "outputs": [],
   "source": [
    "row, col = red_wine.shape\n",
    "display(row)\n",
    "display(col)"
   ]
  },
  {
   "cell_type": "code",
   "execution_count": null,
   "metadata": {},
   "outputs": [],
   "source": [
    "red_wine.isnull(). sum()"
   ]
  },
  {
   "cell_type": "code",
   "execution_count": null,
   "metadata": {},
   "outputs": [],
   "source": [
    "red_wine.describe()"
   ]
  },
  {
   "cell_type": "code",
   "execution_count": null,
   "metadata": {},
   "outputs": [],
   "source": [
    "#make a copy of your original data\n",
    "red_wine_01 = red_wine\n",
    "red_wine_01.head(10)"
   ]
  },
  {
   "cell_type": "code",
   "execution_count": null,
   "metadata": {},
   "outputs": [],
   "source": [
    "white_wine_01 = white_wine\n",
    "white_wine_01.head(10)"
   ]
  },
  {
   "cell_type": "code",
   "execution_count": null,
   "metadata": {},
   "outputs": [],
   "source": [
    "#creating a new column to rank the wine quality into three catergories \n",
    "red_wine_01['quality_label'] = red_wine_01['quality'].apply(lambda value: 'low'\n",
    "if value <= 5 else 'medium'\n",
    "if value <= 7 else 'high')\n",
    "\n",
    "#transform labels into categorical data type, instead of simple string \n",
    "red_wine_01['quality_label'] = pd.Categorical(red_wine_01['quality_label'], \n",
    "categories=['low', 'medium', 'high'])\n",
    "\n",
    "#white wine\n",
    "white_wine_01['quality_label'] = white_wine_01['quality'].apply(lambda value: 'low'\n",
    "if value <= 5 else 'medium'\n",
    "if value <= 7 else 'high')\n",
    "white_wine_01['quality_label'] = pd.Categorical(white_wine_01['quality_label'], \n",
    "categories=['low', 'medium', 'high']) "
   ]
  },
  {
   "cell_type": "code",
   "execution_count": 31,
   "metadata": {},
   "outputs": [
    {
     "ename": "NameError",
     "evalue": "name 'rw1' is not defined",
     "output_type": "error",
     "traceback": [
      "\u001b[1;31m---------------------------------------------------------------------------\u001b[0m",
      "\u001b[1;31mNameError\u001b[0m                                 Traceback (most recent call last)",
      "Cell \u001b[1;32mIn[31], line 2\u001b[0m\n\u001b[0;32m      1\u001b[0m \u001b[39m#add quality label \u001b[39;00m\n\u001b[1;32m----> 2\u001b[0m rw1[\u001b[39m'\u001b[39m\u001b[39mquality_label\u001b[39m\u001b[39m'\u001b[39m] \u001b[39m=\u001b[39m rw1[\u001b[39m'\u001b[39m\u001b[39mquality\u001b[39m\u001b[39m'\u001b[39m]\u001b[39m.\u001b[39mapply(\u001b[39mlambda\u001b[39;00m value: \u001b[39m'\u001b[39m\u001b[39mlow\u001b[39m\u001b[39m'\u001b[39m\n\u001b[0;32m      3\u001b[0m \u001b[39mif\u001b[39;00m value \u001b[39m<\u001b[39m\u001b[39m=\u001b[39m \u001b[39m4\u001b[39m \u001b[39melse\u001b[39;00m \u001b[39m'\u001b[39m\u001b[39mmedium\u001b[39m\u001b[39m'\u001b[39m\n\u001b[0;32m      4\u001b[0m \u001b[39mif\u001b[39;00m value \u001b[39m<\u001b[39m\u001b[39m=\u001b[39m \u001b[39m6\u001b[39m \u001b[39melse\u001b[39;00m \u001b[39m'\u001b[39m\u001b[39mhigh\u001b[39m\u001b[39m'\u001b[39m)\n\u001b[0;32m      5\u001b[0m rw1[\u001b[39m'\u001b[39m\u001b[39mquality_label\u001b[39m\u001b[39m'\u001b[39m] \u001b[39m=\u001b[39m pd\u001b[39m.\u001b[39mCategorical(rw1[\u001b[39m'\u001b[39m\u001b[39mquality_label\u001b[39m\u001b[39m'\u001b[39m], \n\u001b[0;32m      6\u001b[0m categories\u001b[39m=\u001b[39m[\u001b[39m'\u001b[39m\u001b[39mlow\u001b[39m\u001b[39m'\u001b[39m, \u001b[39m'\u001b[39m\u001b[39mmedium\u001b[39m\u001b[39m'\u001b[39m, \u001b[39m'\u001b[39m\u001b[39mhigh\u001b[39m\u001b[39m'\u001b[39m]) \n\u001b[0;32m      8\u001b[0m sns\u001b[39m.\u001b[39mhistplot(x \u001b[39m=\u001b[39m \u001b[39m'\u001b[39m\u001b[39mquality_label\u001b[39m\u001b[39m'\u001b[39m, data\u001b[39m=\u001b[39m rw1)\n",
      "\u001b[1;31mNameError\u001b[0m: name 'rw1' is not defined"
     ]
    }
   ],
   "source": [
    "#trying out different groupings. different values for low medium high \n",
    "rw1['quality_label'] = rw1['quality'].apply(lambda value: 'low'\n",
    "if value <= 4 else 'medium'\n",
    "if value <= 6 else 'high')\n",
    "rw1['quality_label'] = pd.Categorical(rw1['quality_label'], \n",
    "categories=['low', 'medium', 'high']) \n",
    "\n",
    "sns.histplot(x = 'quality_label', data= rw1)"
   ]
  },
  {
   "cell_type": "code",
   "execution_count": null,
   "metadata": {},
   "outputs": [],
   "source": [
    "#i dont like the way the data is split up, i dont think its very easy to look at or analyse \n",
    "#splitting it into three categories of low medium and high i a completely arbitratry way of doing things, i can also just gourp them in a different way \n",
    "#above or below average as a unit of measurement? \n",
    "#calculate the average quality given and use the mean as your comparison point \n",
    "#or better the median mid point of the range? \n",
    "#range is 3-8"
   ]
  },
  {
   "cell_type": "code",
   "execution_count": null,
   "metadata": {},
   "outputs": [],
   "source": [
    "sns.histplot(x = 'quality', data= rw1)"
   ]
  },
  {
   "cell_type": "code",
   "execution_count": null,
   "metadata": {},
   "outputs": [],
   "source": [
    "#using 5.5 as the median \n",
    "\n",
    "rw1['quality_label'] = rw1['quality'].apply(lambda value: 'below'\n",
    "#if value <= 5 else 'medium'\n",
    "if value <= 5.5 else 'above')\n",
    "rw1['quality_label'] = pd.Categorical(rw1['quality_label'], \n",
    "categories=['below', 'above']) \n",
    "\n",
    "sns.histplot(x = 'quality_label', data= rw1)"
   ]
  },
  {
   "cell_type": "code",
   "execution_count": null,
   "metadata": {},
   "outputs": [],
   "source": [
    "pd.set_option('display.max_columns', None)\n",
    "pd.concat([red_wine_01.describe(), white_wine_01.describe()], axis=1, keys=[\"Red Wines Stats\", \"White Wines Stats\"])"
   ]
  },
  {
   "cell_type": "code",
   "execution_count": null,
   "metadata": {},
   "outputs": [],
   "source": [
    "#show findings, compare values, research attributes \n",
    "#"
   ]
  },
  {
   "cell_type": "code",
   "execution_count": null,
   "metadata": {},
   "outputs": [],
   "source": [
    "#create a third data set bringing the two data sets together \n",
    "data = [red_wine_01, white_wine_01]\n",
    "all_wine = pd.concat(data)\n",
    "all_wine.describe()"
   ]
  },
  {
   "cell_type": "code",
   "execution_count": null,
   "metadata": {},
   "outputs": [],
   "source": [
    "\n",
    "red_quantity =4898\n",
    "white_quantity = 1599\n",
    "\n",
    "labels = ['Red Wine Count', 'White Wine Count']\n",
    "sizes = [red_quantity, white_quantity]\n",
    "colors = ['red', 'yellow']\n",
    "plt.pie(sizes, labels=labels, colors=colors, autopct='%1.1f%%', startangle=90)\n",
    "plt.title('Red & White Wine Sample Size') \n",
    "\n",
    "#how to add count"
   ]
  },
  {
   "cell_type": "code",
   "execution_count": null,
   "metadata": {},
   "outputs": [],
   "source": [
    "#make a bar plot \n",
    "sns.histplot(x = 'quality', data= red_wine_01, binwidth= 1)"
   ]
  },
  {
   "cell_type": "code",
   "execution_count": null,
   "metadata": {},
   "outputs": [],
   "source": [
    "sns.histplot(x = 'pH', data= red_wine_01, hue='quality', element='poly')"
   ]
  },
  {
   "cell_type": "code",
   "execution_count": 27,
   "metadata": {},
   "outputs": [
    {
     "data": {
      "text/plain": [
       "<Axes: xlabel='volatile acidity', ylabel='Count'>"
      ]
     },
     "execution_count": 27,
     "metadata": {},
     "output_type": "execute_result"
    },
    {
     "data": {
      "image/png": "[encoded data removed]",
      "text/plain": [
       "<Figure size 640x480 with 1 Axes>"
      ]
     },
     "metadata": {},
     "output_type": "display_data"
    }
   ],
   "source": [
    "sns.histplot(x = 'volatile acidity', data= red_wine_01, hue='quality_label', element='poly')\n",
    "#other editing options include \n",
    "#kde=True    give line \n",
    "#bins=[2,4,6,8]\n",
    "#binwidth= 5\n",
    "#binrange= (0,10)\n",
    "#stat='probability'"
   ]
  },
  {
   "cell_type": "code",
   "execution_count": null,
   "metadata": {},
   "outputs": [],
   "source": [
    "#low quality red wine seems to have high amounts of volatile acid. but only the 0.3 - 0.6 va range produces high quality red wine "
   ]
  },
  {
   "cell_type": "code",
   "execution_count": null,
   "metadata": {},
   "outputs": [],
   "source": [
    "sns.histplot(x = 'volatile acidity', data= white_wine_01, kde=True, hue='quality_label')"
   ]
  },
  {
   "cell_type": "code",
   "execution_count": null,
   "metadata": {},
   "outputs": [],
   "source": [
    "white_wine_01.columns"
   ]
  },
  {
   "cell_type": "code",
   "execution_count": null,
   "metadata": {},
   "outputs": [],
   "source": [
    "col_list_r = red_wine_01.columns\n",
    "for columnname in col_list_r:\n",
    "    print('this is the name of the column:', columnname)\n",
    "    sns.boxplot(x = columnname, y = 'quality_label', data= red_wine_01)\n",
    "\n",
    "    plt.show()\n"
   ]
  },
  {
   "cell_type": "code",
   "execution_count": null,
   "metadata": {},
   "outputs": [],
   "source": [
    "col_list = white_wine_01.columns\n",
    "for columnname in col_list:\n",
    "    print('this is the name of the column:', columnname)\n",
    "    sns.boxplot(x = columnname, y = 'quality_label', data= white_wine_01)\n",
    "\n",
    "    plt.show()\n"
   ]
  },
  {
   "cell_type": "code",
   "execution_count": null,
   "metadata": {},
   "outputs": [],
   "source": [
    "#col_list = white_wine_01.columns\n",
    "#for columnname in col_list:\n",
    "    #print('this is the name of the column:', columnname)\n",
    "   # sns.histplot(x = columnname, data= white_wine_01, hue='quality_label', element='poly')\n",
    "\n",
    "    #plt.show()"
   ]
  },
  {
   "cell_type": "code",
   "execution_count": null,
   "metadata": {},
   "outputs": [],
   "source": [
    "col_list_w = white_wine_01.columns\n",
    "for columnname in col_list_w:\n",
    "    print('this is the name of the column:', columnname)\n",
    "    sns.histplot(x = columnname, data= white_wine_01, hue='quality_label', element='poly')\n",
    "\n",
    "    plt.show()\n"
   ]
  },
  {
   "cell_type": "code",
   "execution_count": null,
   "metadata": {},
   "outputs": [],
   "source": [
    "t = white_wine_01.columns\n",
    "for columnname in col_list:\n",
    "    print('this is the name of the column:', columnname)\n",
    "    sns.histplot(x = columnname, data= white_wine_01, hue='quality_label', element='poly')\n",
    "\n",
    "    plt.show()\n"
   ]
  },
  {
   "cell_type": "code",
   "execution_count": 28,
   "metadata": {},
   "outputs": [
    {
     "data": {
      "text/plain": [
       "<Axes: xlabel='volatile acidity', ylabel='Count'>"
      ]
     },
     "execution_count": 28,
     "metadata": {},
     "output_type": "execute_result"
    },
    {
     "data": {
      "image/png": "[encoded data removed]",
      "text/plain": [
       "<Figure size 640x480 with 1 Axes>"
      ]
     },
     "metadata": {},
     "output_type": "display_data"
    }
   ],
   "source": [
    "sns.histplot(x = 'volatile acidity', data= white_wine_01, hue='quality_label', element='poly')"
   ]
  },
  {
   "cell_type": "code",
   "execution_count": 29,
   "metadata": {},
   "outputs": [
    {
     "data": {
      "text/plain": [
       "<Axes: xlabel='Count', ylabel='alcohol'>"
      ]
     },
     "execution_count": 29,
     "metadata": {},
     "output_type": "execute_result"
    },
    {
     "data": {
      "image/png": "[encoded data removed]",
      "text/plain": [
       "<Figure size 640x480 with 1 Axes>"
      ]
     },
     "metadata": {},
     "output_type": "display_data"
    }
   ],
   "source": [
    "sns.histplot( y = 'alcohol', data=red_wine_01)"
   ]
  },
  {
   "cell_type": "code",
   "execution_count": null,
   "metadata": {},
   "outputs": [],
   "source": [
    "sns.boxplot(data=red_wine_01, x=\"quality\", y=\"alcohol\")\n",
    "plt.title(\"Red Wine Quality\")"
   ]
  },
  {
   "cell_type": "code",
   "execution_count": null,
   "metadata": {},
   "outputs": [],
   "source": [
    "#multivariate non-geographical correlation matrix?\n",
    "#a correlation matrix is a tool to help you visualise and identify different strengths and weaknesses of correlation between two different features of a data set. "
   ]
  },
  {
   "cell_type": "code",
   "execution_count": null,
   "metadata": {},
   "outputs": [],
   "source": [
    "#looking at the correlation matrix 1 is the most positive correlation you can have. anything from 0.6 is a strong positive correlation \n",
    "# -1 ist the most negative correlation you can have. anything from -0.6 is a strong negative correlation and worth looking at. \n",
    "# positive correlation - both values going up or both vlaues going down \n",
    "# negative corrolation - something is added or decreased and the second variable acts in the opposite way. \n",
    "red_wine_01.corr().round(2)\n",
    "#round to make it easier to read "
   ]
  },
  {
   "cell_type": "code",
   "execution_count": null,
   "metadata": {},
   "outputs": [],
   "source": [
    "sns.heatmap(red_wine_01.corr().round(2), annot=True, vmin=-1, vmax=1, center=0, cmap='vlag')\n",
    "#annot=True shows the vlues in the individual heat map squares \n",
    "#add min and max values to determine range \n",
    "#cmap = colour maps from blue to red "
   ]
  },
  {
   "cell_type": "code",
   "execution_count": null,
   "metadata": {},
   "outputs": [],
   "source": [
    "#make the matrix visualisation easier\n",
    "#take correlation matrix and assign it to a new variable\n",
    "# mask our matrix using numpy \n",
    "matrix_red = red_wine_01.corr().round(2)\n",
    "mask = np.triu(np.ones_like(matrix_red, dtype=bool))\n",
    "mask"
   ]
  },
  {
   "cell_type": "code",
   "execution_count": null,
   "metadata": {},
   "outputs": [],
   "source": [
    "sns.heatmap(matrix_red, annot=True, vmax=1, vmin=-1, cmap='vlag', mask=mask)"
   ]
  },
  {
   "cell_type": "code",
   "execution_count": null,
   "metadata": {},
   "outputs": [],
   "source": [
    "matrix_red_01=matrix_red.unstack()\n",
    "matrix_red_01[abs(matrix_red_01) >=0.60]\n",
    "#not exactly sure what the absolute function shows. im guessing values from 0.6 in both directions."
   ]
  },
  {
   "attachments": {},
   "cell_type": "markdown",
   "metadata": {},
   "source": [
    "Take away\n",
    "Red wine pre cleaning: \n",
    "\n",
    "Fixed acidity and pH = -0.68\n",
    "Fixed acidity and citric acid = 0.67 \n",
    "Fixed acidity and density = 0.67 (most interesting, all the other ones seem logical to me)\n",
    "Total sulfur dioxide and free sulfur dioxide = 0.67 "
   ]
  },
  {
   "cell_type": "code",
   "execution_count": null,
   "metadata": {},
   "outputs": [],
   "source": [
    "\n"
   ]
  },
  {
   "cell_type": "code",
   "execution_count": null,
   "metadata": {},
   "outputs": [],
   "source": [
    "matrix_red_01[abs(matrix_red_01) <= -0.60]"
   ]
  },
  {
   "cell_type": "code",
   "execution_count": null,
   "metadata": {},
   "outputs": [],
   "source": [
    "#show only positive correlations \n",
    "matrix_red_01[matrix_red_01 >=0]"
   ]
  },
  {
   "cell_type": "code",
   "execution_count": null,
   "metadata": {},
   "outputs": [],
   "source": [
    "#show only negatives correlations \n",
    "matrix_red_01[matrix_red_01 <=0]"
   ]
  },
  {
   "cell_type": "code",
   "execution_count": null,
   "metadata": {},
   "outputs": [],
   "source": []
  }
 ],
 "metadata": {
  "kernelspec": {
   "display_name": "base",
   "language": "python",
   "name": "python3"
  },
  "language_info": {
   "codemirror_mode": {
    "name": "ipython",
    "version": 3
   },
   "file_extension": ".py",
   "mimetype": "text/x-python",
   "name": "python",
   "nbconvert_exporter": "python",
   "pygments_lexer": "ipython3",
   "version": "3.10.9"
  },
  "orig_nbformat": 4
 },
 "nbformat": 4,
 "nbformat_minor": 2
}
